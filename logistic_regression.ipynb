{
 "cells": [
  {
   "cell_type": "markdown",
   "source": [
    "## Logistic regression"
   ],
   "metadata": {
    "collapsed": false,
    "pycharm": {
     "name": "#%% md\n"
    }
   }
  },
  {
   "cell_type": "code",
   "execution_count": 2,
   "outputs": [
    {
     "name": "stdout",
     "text": [
      "c:\\Users\\s\\Downloads\\machine_learning\\machine-learning-ex2\\ex2\n"
     ],
     "output_type": "stream"
    },
    {
     "data": {
      "text/plain": "'c:\\\\Users\\\\s\\\\Downloads\\\\machine_learning\\\\machine-learning-ex2\\\\ex2'"
     },
     "metadata": {},
     "output_type": "execute_result",
     "execution_count": 2
    }
   ],
   "source": [
    "%cd c:\\\\Users\\\\s\\\\Downloads\\\\machine_learning\\\\machine-learning-ex2\\\\ex2\n",
    "%pwd\n"
   ],
   "metadata": {
    "collapsed": false,
    "pycharm": {
     "name": "#%%\n",
     "is_executing": false
    }
   }
  },
  {
   "cell_type": "markdown",
   "source": [
    "### Visualizing the data"
   ],
   "metadata": {
    "collapsed": false,
    "pycharm": {
     "name": "#%% md\n"
    }
   }
  },
  {
   "cell_type": "code",
   "execution_count": 3,
   "metadata": {
    "collapsed": true,
    "pycharm": {
     "is_executing": false,
     "name": "#%%\n"
    }
   },
   "outputs": [
    {
     "data": {
      "text/plain": "<Figure size 432x288 with 1 Axes>",
      "image/png": "[encoded data removed]"
     },
     "metadata": {
      "needs_background": "light"
     },
     "output_type": "display_data"
    }
   ],
   "source": [
    "import numpy as np\n",
    "import matplotlib.pyplot as plt\n",
    "\n",
    "\n",
    "data = np.loadtxt('ex2data1.txt', delimiter=',')\n",
    "x0 = data[:, 0:2]\n",
    "y0 = data[:, -1][:, np.newaxis]\n",
    "\n",
    "pos = np.where(y0.flatten() == 1)\n",
    "neg = np.where(y0.flatten() == 0)\n",
    "\n",
    "plt.figure(111)\n",
    "plt.scatter(x0[pos, 0], x0[pos, 1], color='black', marker='+', label='Admitted')\n",
    "plt.scatter(x0[neg, 0], x0[neg, 1], color='y', marker='o', label='Not admitted')\n",
    "plt.xlabel('Exam 1 score')\n",
    "plt.ylabel('Exam 2 score')\n",
    "plt.legend(loc='best')\n",
    "plt.show()"
   ]
  },
  {
   "cell_type": "markdown",
   "source": [
    "### Warmup exercise: sigmoid function"
   ],
   "metadata": {
    "collapsed": false,
    "pycharm": {
     "name": "#%% md\n"
    }
   }
  },
  {
   "cell_type": "code",
   "execution_count": 4,
   "outputs": [],
   "source": [
    "def sigmoid(z):\n",
    "    g = 1 / (1 + np.exp(-z))\n",
    "    \n",
    "    return g"
   ],
   "metadata": {
    "collapsed": false,
    "pycharm": {
     "name": "#%%\n",
     "is_executing": false
    }
   }
  },
  {
   "cell_type": "markdown",
   "source": [
    "### Cost function and gradient"
   ],
   "metadata": {
    "collapsed": false,
    "pycharm": {
     "name": "#%% md\n"
    }
   }
  },
  {
   "cell_type": "code",
   "execution_count": 32,
   "outputs": [
    {
     "name": "stdout",
     "text": [
      "0.6931471805599453 [[ -0.1       ]\n [-12.00921659]\n [-11.26284221]]\n[ -0.1        -12.00921659 -11.26284221]\n(0.21833019382659774, array([[0.04290299],\n       [2.56623412],\n       [2.64679737]]))\n"
     ],
     "output_type": "stream"
    }
   ],
   "source": [
    "def cost_function(x_mat, y, theta):\n",
    "    j = -1 / y.shape[0] * np.sum(y * np.log(sigmoid(x_mat.dot(theta))) + (1 - y) * np.log(1 - sigmoid(x_mat.dot(theta))))\n",
    "    grad = 1 / y.shape[0] * x_mat.T.dot(sigmoid(x_mat.dot(theta)) - y)\n",
    "    \n",
    "    return j, grad\n",
    "\n",
    "x0_mat = np.hstack((np.ones((y0.shape[0], 1)), x0))\n",
    "initial_theta = np.zeros((x0_mat.shape[1], 1))\n",
    "j0, grad0 = cost_function(x0_mat, y0, initial_theta)\n",
    "print(j0, grad0)\n",
    "\n",
    "test_theta = np.array([[-24], [0.2], [0.2]])\n",
    "print(cost_function(x0_mat, y0, test_theta))"
   ],
   "metadata": {
    "collapsed": false,
    "pycharm": {
     "name": "#%%\n",
     "is_executing": false
    }
   }
  },
  {
   "cell_type": "markdown",
   "source": [
    "### Learning parameters using advanced optimization"
   ],
   "metadata": {
    "collapsed": false,
    "pycharm": {
     "name": "#%% md\n"
    }
   }
  },
  {
   "cell_type": "code",
   "execution_count": 54,
   "outputs": [
    {
     "name": "stderr",
     "text": [
      "C:\\ProgramData\\Anaconda3\\lib\\site-packages\\ipykernel_launcher.py:7: RuntimeWarning: divide by zero encountered in log\n  import sys\nC:\\ProgramData\\Anaconda3\\lib\\site-packages\\ipykernel_launcher.py:7: RuntimeWarning: invalid value encountered in multiply\n  import sys\n"
     ],
     "output_type": "stream"
    },
    {
     "name": "stdout",
     "text": [
      "Optimization terminated successfully.\n         Current function value: 0.203498\n         Iterations: 23\n         Function evaluations: 31\n         Gradient evaluations: 31\n[-25.16133284   0.2062317    0.2014716 ]\n"
     ],
     "output_type": "stream"
    },
    {
     "data": {
      "text/plain": "<Figure size 432x288 with 1 Axes>",
      "image/png": "[encoded data removed]"
     },
     "metadata": {
      "needs_background": "light"
     },
     "output_type": "display_data"
    }
   ],
   "source": [
    "from scipy import optimize\n",
    "\n",
    "\n",
    "def f(theta, x_mat, y):\n",
    "    theta = theta.reshape(-1, 1)\n",
    "    j = -1 / y.shape[0] * np.sum(y * np.log(sigmoid(x_mat.dot(theta))) + (1 - y) * np.log(1 - sigmoid(x_mat.dot(theta))))\n",
    "    \n",
    "    return j\n",
    "\n",
    "\n",
    "def f_grad(theta, x_mat, y):\n",
    "    theta = theta.reshape(-1, 1)\n",
    "    grad = 1 / y.shape[0] * x_mat.T.dot(sigmoid(x_mat.dot(theta)) - y)\n",
    "   \n",
    "    return grad.ravel()\n",
    "\n",
    "\n",
    "res = optimize.fmin_bfgs(f, initial_theta.ravel(), args=(x0_mat, y0), fprime=f_grad, maxiter=400)\n",
    "print(res)\n",
    "\n",
    "x1 = np.arange(20, 100, 0.5)\n",
    "x2 = (-res[0] - res[1] * x1) / res[2]\n",
    "\n",
    "plt.figure(111)\n",
    "plt.scatter(x0[pos, 0], x0[pos, 1], color='black', marker='+', label='Admitted')\n",
    "plt.scatter(x0[neg, 0], x0[neg, 1], color='y', marker='o', label='Not admitted')\n",
    "plt.plot(x1, x2, 'b-')\n",
    "plt.xlabel('Exam 1 score')\n",
    "plt.ylabel('Exam 2 score')\n",
    "plt.legend(loc='best')\n",
    "plt.show()"
   ],
   "metadata": {
    "collapsed": false,
    "pycharm": {
     "name": "#%%\n",
     "is_executing": false
    }
   }
  },
  {
   "cell_type": "markdown",
   "source": [
    "### Evaluating logistic regression"
   ],
   "metadata": {
    "collapsed": false,
    "pycharm": {
     "name": "#%% md\n"
    }
   }
  },
  {
   "cell_type": "code",
   "execution_count": 72,
   "outputs": [
    {
     "name": "stdout",
     "text": [
      "[0.77629071]\n0.89\n"
     ],
     "output_type": "stream"
    }
   ],
   "source": [
    "parameter = np.array([[-25.16133284], [0.2062317], [0.2014716]])\n",
    "x_test = np.array([1, 45, 85])\n",
    "\n",
    "pred0 = sigmoid(x_test.dot(parameter))\n",
    "print(pred0)\n",
    "\n",
    "def predict(theta, x_mat):\n",
    "    \n",
    "    p = np.where(sigmoid(x_mat.dot(theta)) >= 0.5, 1, 0)\n",
    "    \n",
    "    return p\n",
    "\n",
    "\n",
    "pred = predict(parameter, x0_mat)\n",
    "accuracy = np.mean(pred == y0)\n",
    "print(accuracy)"
   ],
   "metadata": {
    "collapsed": false,
    "pycharm": {
     "name": "#%%\n",
     "is_executing": false
    }
   }
  },
  {
   "cell_type": "markdown",
   "source": [
    "## Regularized logistic regression"
   ],
   "metadata": {
    "collapsed": false,
    "pycharm": {
     "name": "#%% md\n"
    }
   }
  },
  {
   "cell_type": "markdown",
   "source": [
    "### Visualizing the data"
   ],
   "metadata": {
    "collapsed": false,
    "pycharm": {
     "name": "#%% md\n"
    }
   }
  },
  {
   "cell_type": "code",
   "execution_count": 77,
   "outputs": [
    {
     "data": {
      "text/plain": "<Figure size 432x288 with 1 Axes>",
      "image/png": "[encoded data removed]"
     },
     "metadata": {
      "needs_background": "light"
     },
     "output_type": "display_data"
    }
   ],
   "source": [
    "data_reg = np.loadtxt('ex2data2.txt', delimiter=',')\n",
    "x00 = data_reg[:, 0:2]\n",
    "y00 = data_reg[:, -1][:, np.newaxis]\n",
    "\n",
    "pos1 = np.where(y00.flatten() == 1)\n",
    "neg1 = np.where(y00.flatten() == 0)\n",
    "\n",
    "plt.figure(111)\n",
    "plt.scatter(x00[pos1, 0], x00[pos1, 1], color='black', marker='+', label='y =1')\n",
    "plt.scatter(x00[neg1, 0], x00[neg1, 1], color='y', marker='o', label='y = 0')\n",
    "plt.xlabel('Microchip Test 1')\n",
    "plt.ylabel('Microchip Test 2')\n",
    "plt.legend(loc='best')\n",
    "plt.show()"
   ],
   "metadata": {
    "collapsed": false,
    "pycharm": {
     "name": "#%%\n",
     "is_executing": false
    }
   }
  },
  {
   "cell_type": "markdown",
   "source": [
    "### Feature mapping"
   ],
   "metadata": {
    "collapsed": false,
    "pycharm": {
     "name": "#%% md\n"
    }
   }
  },
  {
   "cell_type": "code",
   "execution_count": 90,
   "outputs": [],
   "source": [
    "def map_feature(x_1, x_2):\n",
    "    degree = 6\n",
    "    out = np.ones((x_1.shape[0], 1))\n",
    "    for i in np.arange(1, degree + 1, 1):\n",
    "        for j in np.arange(0, i + 1, 1):\n",
    "            feature = (x_1 ** (i - j)) * (x_2 ** j)\n",
    "            out = np.hstack((out, feature))\n",
    "            \n",
    "    return out\n",
    "\n",
    "x_reg = map_feature(x00[:, 0:1], x00[:, 1:2])"
   ],
   "metadata": {
    "collapsed": false,
    "pycharm": {
     "name": "#%%\n",
     "is_executing": false
    }
   }
  },
  {
   "cell_type": "markdown",
   "source": [
    "### Cost function and gradient"
   ],
   "metadata": {
    "collapsed": false
   }
  },
  {
   "cell_type": "code",
   "execution_count": null,
   "outputs": [],
   "source": [
    "\n"
   ],
   "metadata": {
    "collapsed": false,
    "pycharm": {
     "name": "#%%\n"
    }
   }
  }
 ],
 "metadata": {
  "kernelspec": {
   "name": "python3",
   "language": "python",
   "display_name": "Python 3"
  },
  "language_info": {
   "codemirror_mode": {
    "name": "ipython",
    "version": 2
   },
   "file_extension": ".py",
   "mimetype": "text/x-python",
   "name": "python",
   "nbconvert_exporter": "python",
   "pygments_lexer": "ipython2",
   "version": "2.7.6"
  },
  "pycharm": {
   "stem_cell": {
    "cell_type": "raw",
    "source": [],
    "metadata": {
     "collapsed": false
    }
   }
  }
 },
 "nbformat": 4,
 "nbformat_minor": 0
}