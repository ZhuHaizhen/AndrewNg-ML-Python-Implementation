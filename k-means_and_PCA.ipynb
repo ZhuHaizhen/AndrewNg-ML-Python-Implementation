{
 "cells": [
  {
   "cell_type": "markdown",
   "source": [
    "# Unsupervised learning"
   ],
   "metadata": {
    "collapsed": false,
    "pycharm": {
     "name": "#%% md\n"
    }
   }
  },
  {
   "cell_type": "code",
   "execution_count": 1,
   "metadata": {
    "collapsed": true,
    "pycharm": {
     "is_executing": false
    }
   },
   "outputs": [
    {
     "name": "stdout",
     "text": [
      "C:\\Users\\s\\Downloads\\machine_learning\\machine-learning-ex7\\ex7\n"
     ],
     "output_type": "stream"
    },
    {
     "data": {
      "text/plain": "'C:\\\\Users\\\\s\\\\Downloads\\\\machine_learning\\\\machine-learning-ex7\\\\ex7'"
     },
     "metadata": {},
     "output_type": "execute_result",
     "execution_count": 1
    }
   ],
   "source": [
    "%cd C:\\\\Users\\\\s\\\\Downloads\\\\machine_learning\\\\machine-learning-ex7\\\\ex7\n",
    "%pwd"
   ]
  },
  {
   "cell_type": "markdown",
   "source": [
    "## K-means clustering"
   ],
   "metadata": {
    "collapsed": false
   }
  },
  {
   "cell_type": "markdown",
   "source": [
    "### Implementing K-means"
   ],
   "metadata": {
    "collapsed": false
   }
  },
  {
   "cell_type": "code",
   "execution_count": 5,
   "outputs": [
    {
     "name": "stdout",
     "text": [
      "(300, 2)\n"
     ],
     "output_type": "stream"
    },
    {
     "data": {
      "text/plain": "<Figure size 432x288 with 1 Axes>",
      "image/png": "[encoded data removed]"
     },
     "metadata": {
      "needs_background": "light"
     },
     "output_type": "display_data"
    }
   ],
   "source": [
    "import numpy as np\n",
    "import matplotlib.pyplot as plt\n",
    "from scipy.io import loadmat\n",
    "\n",
    "\n",
    "data2 = loadmat('ex7data2.mat')\n",
    "data2\n",
    "x20 = data2['X']\n",
    "print(x20.shape)\n",
    "\n",
    "plt.scatter(x20[:, 0], x20[:, 1])\n",
    "plt.show()"
   ],
   "metadata": {
    "collapsed": false,
    "pycharm": {
     "name": "#%%\n",
     "is_executing": false
    }
   }
  },
  {
   "cell_type": "code",
   "execution_count": 18,
   "outputs": [
    {
     "name": "stdout",
     "text": [
      "[[1.]\n [3.]\n [2.]]\n"
     ],
     "output_type": "stream"
    }
   ],
   "source": [
    "def find_closest_centroids(x, centroids):\n",
    "    k = centroids.shape[0]\n",
    "    m = x.shape[0]\n",
    "    idx = np.zeros((m, 1))\n",
    "    \n",
    "    for i in range(m):\n",
    "        min_dist = 1000000\n",
    "        for j in range(k):\n",
    "            dist = np.sum((x[i, :] - centroids[j, :]) ** 2)\n",
    "            if dist < min_dist:\n",
    "                min_dist = dist\n",
    "                idx[i] = j+1\n",
    "                \n",
    "    return idx\n",
    "\n",
    "idx20 = find_closest_centroids(x20, np.array([[3, 3], [6, 2], [8, 5]]))\n",
    "print(idx20[0:3])"
   ],
   "metadata": {
    "collapsed": false,
    "pycharm": {
     "name": "#%%\n",
     "is_executing": false
    }
   }
  },
  {
   "cell_type": "code",
   "execution_count": 20,
   "outputs": [
    {
     "name": "stdout",
     "text": [
      "[[2.42830111 3.15792418]\n [5.81350331 2.63365645]\n [7.11938687 3.6166844 ]]\n"
     ],
     "output_type": "stream"
    }
   ],
   "source": [
    "def compute_centroids(x, idx, k):\n",
    "    centroids = np.zeros((k, x.shape[1]))\n",
    "    for i in range(k):\n",
    "        index = np.where(i+1 == idx.ravel())\n",
    "        centroids[i, :] = np.mean(x[index, :], axis=1)\n",
    "        \n",
    "    return centroids\n",
    "\n",
    "print(compute_centroids(x20, idx20, 3))"
   ],
   "metadata": {
    "collapsed": false,
    "pycharm": {
     "name": "#%%\n",
     "is_executing": false
    }
   }
  },
  {
   "cell_type": "code",
   "execution_count": 31,
   "outputs": [
    {
     "data": {
      "text/plain": "<Figure size 432x288 with 1 Axes>",
      "image/png": "[encoded data removed]"
     },
     "metadata": {
      "needs_background": "light"
     },
     "output_type": "display_data"
    }
   ],
   "source": [
    "def run_kmeans_plot(x, initial_centroids, max_iters):\n",
    "    m = x.shape[0]\n",
    "    k = initial_centroids.shape[0]\n",
    "    centroids = initial_centroids\n",
    "    idx = np.zeros((m, 1))\n",
    "    cent1 = np.zeros((max_iters, initial_centroids.shape[1]))\n",
    "    cent2 = np.zeros((max_iters, initial_centroids.shape[1]))\n",
    "    cent3 = np.zeros((max_iters, initial_centroids.shape[1]))\n",
    "    \n",
    "    for i in range(max_iters):\n",
    "        idx = find_closest_centroids(x, centroids)\n",
    "        centroids = compute_centroids(x, idx, k)\n",
    "        cent1[i, :] = centroids[0, :]\n",
    "        cent2[i, :] = centroids[1, :]\n",
    "        cent3[i, :] = centroids[2, :]\n",
    "        \n",
    "    return idx, centroids, cent1, cent2, cent3\n",
    "\n",
    "idx21, centroids20, cent10, cent20, cent30 = run_kmeans_plot(x20, np.array([[3, 3], [6, 2], [8, 5]]), 10)\n",
    "\n",
    "idx21_1 = np.where(idx21.ravel() == 1)\n",
    "idx21_2 = np.where(idx21.ravel() == 2)\n",
    "idx21_3 = np.where(idx21.ravel() == 3)\n",
    "\n",
    "plt.scatter(x20[idx21_1, 0], x20[idx21_1, 1], color='w', marker='o', edgecolors='r')\n",
    "plt.scatter(x20[idx21_2, 0], x20[idx21_2, 1], color='w', marker='o', edgecolors='g')\n",
    "plt.scatter(x20[idx21_3, 0], x20[idx21_3, 1], color='w', marker='o', edgecolors='b')\n",
    "\n",
    "plt.plot(cent10[:, 0], cent10[:, 1], c='k', linestyle='-', marker='x')\n",
    "plt.plot(cent20[:, 0], cent20[:, 1], c='k', linestyle='-', marker='x')\n",
    "plt.plot(cent30[:, 0], cent30[:, 1], c='k', linestyle='-', marker='x')\n",
    "plt.show()"
   ],
   "metadata": {
    "collapsed": false,
    "pycharm": {
     "name": "#%%\n",
     "is_executing": false
    }
   }
  },
  {
   "cell_type": "code",
   "execution_count": 55,
   "outputs": [
    {
     "data": {
      "text/plain": "<Figure size 432x288 with 1 Axes>",
      "image/png": "[encoded data removed]"
     },
     "metadata": {
      "needs_background": "light"
     },
     "output_type": "display_data"
    }
   ],
   "source": [
    "def rand_centroids(x, k):\n",
    "    m, n = x.shape\n",
    "    rand_idx = np.random.choice(m, k)\n",
    "    centroids = x[rand_idx]\n",
    "    \n",
    "    return centroids\n",
    "\n",
    "rand_centroids0 = rand_centroids(x20, 3)\n",
    "idx22, centroids21, cent11, cent21, cent31 = run_kmeans_plot(x20, rand_centroids0, 10)\n",
    "\n",
    "idx22_1 = np.where(idx22.ravel() == 1)\n",
    "idx22_2 = np.where(idx22.ravel() == 2)\n",
    "idx22_3 = np.where(idx22.ravel() == 3)\n",
    "\n",
    "plt.scatter(x20[idx22_1, 0], x20[idx22_1, 1], color='w', marker='o', edgecolors='r')\n",
    "plt.scatter(x20[idx22_2, 0], x20[idx22_2, 1], color='w', marker='o', edgecolors='g')\n",
    "plt.scatter(x20[idx22_3, 0], x20[idx22_3, 1], color='w', marker='o', edgecolors='b')\n",
    "\n",
    "plt.plot(cent11[:, 0], cent11[:, 1], c='k', linestyle='-', marker='x')\n",
    "plt.plot(cent21[:, 0], cent21[:, 1], c='k', linestyle='-', marker='x')\n",
    "plt.plot(cent31[:, 0], cent31[:, 1], c='k', linestyle='-', marker='x')\n",
    "plt.show()"
   ],
   "metadata": {
    "collapsed": false,
    "pycharm": {
     "name": "#%%\n",
     "is_executing": false
    }
   }
  },
  {
   "cell_type": "markdown",
   "source": [
    "## Principal Component Analysis"
   ],
   "metadata": {
    "collapsed": false
   }
  },
  {
   "cell_type": "code",
   "execution_count": 58,
   "outputs": [
    {
     "name": "stdout",
     "text": [
      "(50, 2)\n"
     ],
     "output_type": "stream"
    },
    {
     "data": {
      "text/plain": "<Figure size 432x288 with 1 Axes>",
      "image/png": "[encoded data removed]"
     },
     "metadata": {
      "needs_background": "light"
     },
     "output_type": "display_data"
    }
   ],
   "source": [
    "data1 = loadmat('ex7data1.mat')\n",
    "data1\n",
    "x10 = data1['X']\n",
    "print(x10.shape)\n",
    "\n",
    "plt.scatter(x10[:, 0], x10[:, 1], color='w', edgecolors='b', marker='o')\n",
    "plt.show()"
   ],
   "metadata": {
    "collapsed": false,
    "pycharm": {
     "name": "#%%\n",
     "is_executing": false
    }
   }
  },
  {
   "cell_type": "code",
   "source": [
    "def feature_normalization(x):\n",
    "    mu = np.mean(x, axis=0)\n",
    "    x_norm = x - mu\n",
    "    sigma = np.std(x_norm, axis=0)\n",
    "    x_norm = x_norm / sigma\n",
    "    \n",
    "    return x_norm, mu, sigma\n",
    "\n",
    "def pca(x_norm):\n",
    "    m = x_norm.shape[0]\n",
    "    sigma = 1 / m * x_norm.T.dot(x_norm)\n",
    "    U, S, V = np.linalg.svd(sigma)\n",
    "    \n",
    "    return U, S, V\n",
    "\n",
    "x10_norm, mu10, sigma10 = feature_normalization(x10)\n",
    "u0, s0, v0 = pca(x10_norm)\n",
    "print(u0[0, 0], u0[1, 0])"
   ],
   "metadata": {
    "collapsed": false,
    "pycharm": {
     "name": "#%%\n",
     "is_executing": false
    }
   },
   "execution_count": 62,
   "outputs": [
    {
     "name": "stdout",
     "text": [
      "-0.7071067811865472 -0.7071067811865476\n"
     ],
     "output_type": "stream"
    }
   ]
  },
  {
   "cell_type": "code",
   "execution_count": 67,
   "outputs": [
    {
     "name": "stdout",
     "text": [
      "[1.49631261]\n"
     ],
     "output_type": "stream"
    }
   ],
   "source": [
    "def project_data(x, U, k):\n",
    "    u_reduce = U[:, 0:k]\n",
    "    z = x.dot(u_reduce)\n",
    "    \n",
    "    return z\n",
    "\n",
    "z0 = project_data(x10_norm, u0, 1)\n",
    "print(z0[0])"
   ],
   "metadata": {
    "collapsed": false,
    "pycharm": {
     "name": "#%%\n",
     "is_executing": false
    }
   }
  },
  {
   "cell_type": "code",
   "execution_count": 71,
   "outputs": [
    {
     "name": "stdout",
     "text": [
      "[-1.05805279 -1.05805279]\n"
     ],
     "output_type": "stream"
    },
    {
     "data": {
      "text/plain": "<Figure size 432x288 with 1 Axes>",
      "image/png": "[encoded data removed]"
     },
     "metadata": {
      "needs_background": "light"
     },
     "output_type": "display_data"
    }
   ],
   "source": [
    "def recover_data(z, U, k):\n",
    "    u_reduce = U[:, :k]\n",
    "    x_rec = z.dot(u_reduce.T)\n",
    "    \n",
    "    return x_rec\n",
    "\n",
    "x10_rec = recover_data(z0, u0, 1)\n",
    "print(x10_rec[0, :])\n",
    "\n",
    "plt.scatter(x10_norm[:, 0], x10_norm[:, 1], color='w', edgecolors='b', marker='o')\n",
    "plt.scatter(x10_rec[:, 0], x10_rec[:, 1], color='w', edgecolors='r', marker='o')\n",
    "plt.show()\n"
   ],
   "metadata": {
    "collapsed": false,
    "pycharm": {
     "name": "#%%\n",
     "is_executing": false
    }
   }
  }
 ],
 "metadata": {
  "kernelspec": {
   "display_name": "Python 3",
   "language": "python",
   "name": "python3"
  },
  "language_info": {
   "codemirror_mode": {
    "name": "ipython",
    "version": 2
   },
   "file_extension": ".py",
   "mimetype": "text/x-python",
   "name": "python",
   "nbconvert_exporter": "python",
   "pygments_lexer": "ipython2",
   "version": "2.7.6"
  },
  "pycharm": {
   "stem_cell": {
    "cell_type": "raw",
    "source": [],
    "metadata": {
     "collapsed": false
    }
   }
  }
 },
 "nbformat": 4,
 "nbformat_minor": 0
}