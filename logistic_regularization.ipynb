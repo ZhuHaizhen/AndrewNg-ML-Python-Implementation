{
 "cells": [
  {
   "cell_type": "markdown",
   "source": [
    "## Regularized logistic regression"
   ],
   "metadata": {
    "collapsed": false
   }
  },
  {
   "cell_type": "code",
   "execution_count": 3,
   "outputs": [
    {
     "name": "stdout",
     "text": [
      "c:\\Users\\s\\Downloads\\machine_learning\\machine-learning-ex2\\ex2\n"
     ],
     "output_type": "stream"
    },
    {
     "data": {
      "text/plain": "'c:\\\\Users\\\\s\\\\Downloads\\\\machine_learning\\\\machine-learning-ex2\\\\ex2'"
     },
     "metadata": {},
     "output_type": "execute_result",
     "execution_count": 3
    }
   ],
   "source": [
    "%cd c:\\\\Users\\\\s\\\\Downloads\\\\machine_learning\\\\machine-learning-ex2\\\\ex2\n",
    "%pwd"
   ],
   "metadata": {
    "collapsed": false,
    "pycharm": {
     "name": "#%%\n",
     "is_executing": false
    }
   }
  },
  {
   "cell_type": "markdown",
   "source": [
    "### Visualizing the data"
   ],
   "metadata": {
    "collapsed": false
   }
  },
  {
   "cell_type": "code",
   "execution_count": 4,
   "outputs": [
    {
     "data": {
      "text/plain": "<Figure size 432x288 with 1 Axes>",
      "image/png": "[encoded data removed]"
     },
     "metadata": {
      "needs_background": "light"
     },
     "output_type": "display_data"
    }
   ],
   "source": [
    "import numpy as np\n",
    "import matplotlib.pyplot as plt\n",
    "\n",
    "\n",
    "data = np.loadtxt('ex2data2.txt', delimiter=',')\n",
    "x0 = data[:, 0:2]\n",
    "y0 = data[:, -1][:, np.newaxis]\n",
    "\n",
    "pos = np.where(y0.flatten() == 1)\n",
    "neg = np.where(y0.flatten() == 0)\n",
    "\n",
    "plt.figure(111)\n",
    "plt.scatter(x0[pos, 0], x0[pos, 1], color='black', marker='+', label='y =1')\n",
    "plt.scatter(x0[neg, 0], x0[neg, 1], color='y', marker='o', label='y = 0')\n",
    "plt.xlabel('Microchip Test 1')\n",
    "plt.ylabel('Microchip Test 2')\n",
    "plt.legend(loc='best')\n",
    "plt.show()"
   ],
   "metadata": {
    "collapsed": false,
    "pycharm": {
     "name": "#%%\n",
     "is_executing": false
    }
   }
  },
  {
   "cell_type": "markdown",
   "source": [
    "### Feature mapping"
   ],
   "metadata": {
    "collapsed": false
   }
  },
  {
   "cell_type": "code",
   "execution_count": 43,
   "outputs": [
    {
     "name": "stdout",
     "text": [
      "(118, 28)\n"
     ],
     "output_type": "stream"
    }
   ],
   "source": [
    "def map_feature(x_1, x_2):\n",
    "    degree = 6\n",
    "    out = np.ones((x_1.shape[0], 1))\n",
    "    for i in np.arange(1, degree + 1, 1):\n",
    "        for j in np.arange(0, i + 1, 1):\n",
    "            feature = (x_1 ** (i - j)) * (x_2 ** j)\n",
    "            out = np.hstack((out, feature))\n",
    "            \n",
    "    return out\n",
    "\n",
    "x_reg = map_feature(x0[:, 0:1], x0[:, 1:2])\n",
    "print(x_reg.shape)"
   ],
   "metadata": {
    "collapsed": false,
    "pycharm": {
     "name": "#%%\n",
     "is_executing": false
    }
   }
  },
  {
   "cell_type": "markdown",
   "source": [
    "### Cost function and gradient"
   ],
   "metadata": {
    "collapsed": false
   }
  },
  {
   "cell_type": "code",
   "execution_count": 20,
   "metadata": {
    "collapsed": true,
    "pycharm": {
     "is_executing": false
    }
   },
   "outputs": [
    {
     "name": "stdout",
     "text": [
      "Cost at initial theta (zeros):\n [[0.69314718]]\nGradient at initial theta (zeros) - first five values only:\n[[8.47457627e-03]\n [1.87880932e-02]\n [7.77711864e-05]\n [5.03446395e-02]\n [1.15013308e-02]]\n"
     ],
     "output_type": "stream"
    }
   ],
   "source": [
    "def sigmoid(z):\n",
    "    g = 1 / (1 + np.exp(-z))\n",
    "    \n",
    "    return g\n",
    "\n",
    "\n",
    "def cost_func_reg(theta, x, y, reg):\n",
    "    theta_1 = theta[1:, :]\n",
    "    m = x.shape[0]\n",
    "    j = -1 * np.sum(y * (np.log(sigmoid(x.dot(theta)))) + (1 - y) * (np.log(1 - sigmoid(x.dot(theta))))) / m + reg / (2 * m) * theta_1.T.dot(theta_1)\n",
    "    grad = (x.T.dot(sigmoid(x.dot(theta)) - y)) / m\n",
    "    grad[1:, :] += reg / m * theta_1\n",
    "    \n",
    "    return j, grad\n",
    "\n",
    "\n",
    "initial_theta = np.zeros((x_reg.shape[1], 1))\n",
    "reg0 = 1\n",
    "cost0, grad0 = cost_func_reg(initial_theta, x_reg, y0, reg0)\n",
    "print('Cost at initial theta (zeros):\\n', cost0)\n",
    "print('Gradient at initial theta (zeros) - first five values only:')\n",
    "print(grad0[0:5])"
   ]
  },
  {
   "cell_type": "markdown",
   "source": [
    "### Advanced optimization"
   ],
   "metadata": {
    "collapsed": false,
    "pycharm": {
     "name": "#%% md\n"
    }
   }
  },
  {
   "cell_type": "code",
   "execution_count": 24,
   "outputs": [
    {
     "name": "stdout",
     "text": [
      "     fun: 0.5290027310062194\n     jac: array([-2.94796744e-07, -1.51981240e-06,  2.34227002e-06,  1.85216621e-06,\n       -2.39379244e-06,  4.28881429e-06, -1.35441427e-06,  1.53200342e-06,\n       -1.93771602e-07,  7.98178999e-07, -1.50253078e-07, -1.50619987e-06,\n        4.86209617e-07, -9.80416629e-07,  1.85525819e-06, -1.27803998e-06,\n        7.29820866e-07, -6.57849557e-07,  3.56952614e-07, -2.89426711e-08,\n       -2.66123515e-07, -8.48676498e-07, -7.48056251e-07,  1.26071908e-07,\n       -6.66924216e-07,  2.79431390e-07, -6.00948024e-07,  2.20222613e-07])\n message: 'Optimization terminated successfully.'\n    nfev: 55\n     nit: 19\n    njev: 55\n  status: 0\n success: True\n       x: array([ 1.2726322 ,  0.62526851,  1.18110054, -2.01977776, -0.91750969,\n       -1.43140105,  0.12396937, -0.36542088, -0.35720348, -0.17516018,\n       -1.45817405, -0.05109747, -0.61556197, -0.2747374 , -1.19275643,\n       -0.24225813, -0.20594332, -0.04478629, -0.27777193, -0.29534671,\n       -0.45647333, -1.04328679,  0.02771439, -0.29243876,  0.01551392,\n       -0.3273817 , -0.14391016, -0.92473298])\n"
     ],
     "output_type": "stream"
    }
   ],
   "source": [
    "from scipy import optimize\n",
    "\n",
    "\n",
    "def f(theta, x, y, reg):\n",
    "    theta = theta.reshape(-1, 1)\n",
    "    theta_1 = theta[1:, :]\n",
    "    m = x.shape[0]\n",
    "    j = -1 * np.sum(y * (np.log(sigmoid(x.dot(theta)))) + (1 - y) * (np.log(1 - sigmoid(x.dot(theta))))) / m + reg / (2 * m) * theta_1.T.dot(theta_1)\n",
    "    \n",
    "    return j\n",
    "\n",
    "\n",
    "def jac(theta, x, y, reg):\n",
    "    theta = theta.reshape(-1, 1)\n",
    "    theta_1 = theta[1:, :]\n",
    "    m = x.shape[0]\n",
    "    grad = (x.T.dot(sigmoid(x.dot(theta)) - y)) / m\n",
    "    grad[1:, :] += reg / m * theta_1\n",
    "    \n",
    "    return grad.ravel()\n",
    "\n",
    "res = optimize.minimize(fun=f, x0=initial_theta.ravel(), args=(x_reg, y0, reg0), method='CG', jac=jac)\n",
    "print(res)"
   ],
   "metadata": {
    "collapsed": false,
    "pycharm": {
     "name": "#%%\n",
     "is_executing": false
    }
   }
  },
  {
   "cell_type": "markdown",
   "source": [
    "### Plotting the decision boundary"
   ],
   "metadata": {
    "collapsed": false
   }
  },
  {
   "cell_type": "code",
   "execution_count": 56,
   "outputs": [
    {
     "data": {
      "text/plain": "<Figure size 432x288 with 1 Axes>",
      "image/png": "[encoded data removed]"
     },
     "metadata": {
      "needs_background": "light"
     },
     "output_type": "display_data"
    }
   ],
   "source": [
    "x1 = np.linspace(-1, 1.5, 50)\n",
    "x2 = np.linspace(-1, 1.5, 50)\n",
    "xx1, xx2 = np.meshgrid(x1, x2)\n",
    "xx_reg = map_feature(xx1.ravel().reshape(-1, 1), xx2.ravel().reshape(-1, 1))\n",
    "h = sigmoid(xx_reg.dot(res.x)).reshape(50, 50)\n",
    "\n",
    "plt.figure(111)\n",
    "plt.scatter(x0[pos, 0], x0[pos, 1], color='black', marker='+', label='y =1')\n",
    "plt.scatter(x0[neg, 0], x0[neg, 1], color='y', marker='o', label='y = 0')\n",
    "plt.contour(xx1, xx2, h, [0.5], colors='green')\n",
    "plt.xlabel('Microchip Test 1')\n",
    "plt.ylabel('Microchip Test 2')\n",
    "plt.legend(loc='best')\n",
    "plt.title('lambda = 1')\n",
    "plt.show()\n"
   ],
   "metadata": {
    "collapsed": false,
    "pycharm": {
     "name": "#%%\n",
     "is_executing": false
    }
   }
  }
 ],
 "metadata": {
  "kernelspec": {
   "display_name": "Python 3",
   "language": "python",
   "name": "python3"
  },
  "language_info": {
   "codemirror_mode": {
    "name": "ipython",
    "version": 2
   },
   "file_extension": ".py",
   "mimetype": "text/x-python",
   "name": "python",
   "nbconvert_exporter": "python",
   "pygments_lexer": "ipython2",
   "version": "2.7.6"
  },
  "pycharm": {
   "stem_cell": {
    "cell_type": "raw",
    "source": [],
    "metadata": {
     "collapsed": false
    }
   }
  }
 },
 "nbformat": 4,
 "nbformat_minor": 0
}