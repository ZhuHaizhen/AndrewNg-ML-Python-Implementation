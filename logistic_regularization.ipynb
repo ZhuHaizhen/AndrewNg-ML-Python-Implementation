{
 "cells": [
  {
   "cell_type": "markdown",
   "source": [
    "## Regularized logistic regression"
   ],
   "metadata": {
    "collapsed": false
   }
  },
  {
   "cell_type": "code",
   "execution_count": 3,
   "outputs": [
    {
     "name": "stdout",
     "text": [
      "c:\\Users\\s\\Downloads\\machine_learning\\machine-learning-ex2\\ex2\n"
     ],
     "output_type": "stream"
    },
    {
     "data": {
      "text/plain": "'c:\\\\Users\\\\s\\\\Downloads\\\\machine_learning\\\\machine-learning-ex2\\\\ex2'"
     },
     "metadata": {},
     "output_type": "execute_result",
     "execution_count": 3
    }
   ],
   "source": [
    "%cd c:\\\\Users\\\\s\\\\Downloads\\\\machine_learning\\\\machine-learning-ex2\\\\ex2\n",
    "%pwd"
   ],
   "metadata": {
    "collapsed": false,
    "pycharm": {
     "name": "#%%\n",
     "is_executing": false
    }
   }
  },
  {
   "cell_type": "markdown",
   "source": [
    "### Visualizing the data"
   ],
   "metadata": {
    "collapsed": false
   }
  },
  {
   "cell_type": "code",
   "execution_count": 4,
   "outputs": [
    {
     "data": {
      "text/plain": "<Figure size 432x288 with 1 Axes>",
      "image/png": "[encoded data removed]"
     },
     "metadata": {
      "needs_background": "light"
     },
     "output_type": "display_data"
    }
   ],
   "source": [
    "import numpy as np\n",
    "import matplotlib.pyplot as plt\n",
    "\n",
    "\n",
    "data = np.loadtxt('ex2data2.txt', delimiter=',')\n",
    "x0 = data[:, 0:2]\n",
    "y0 = data[:, -1][:, np.newaxis]\n",
    "\n",
    "pos = np.where(y0.flatten() == 1)\n",
    "neg = np.where(y0.flatten() == 0)\n",
    "\n",
    "plt.figure(111)\n",
    "plt.scatter(x0[pos, 0], x0[pos, 1], color='black', marker='+', label='y =1')\n",
    "plt.scatter(x0[neg, 0], x0[neg, 1], color='y', marker='o', label='y = 0')\n",
    "plt.xlabel('Microchip Test 1')\n",
    "plt.ylabel('Microchip Test 2')\n",
    "plt.legend(loc='best')\n",
    "plt.show()"
   ],
   "metadata": {
    "collapsed": false,
    "pycharm": {
     "name": "#%%\n",
     "is_executing": false
    }
   }
  },
  {
   "cell_type": "markdown",
   "source": [
    "### Feature mapping"
   ],
   "metadata": {
    "collapsed": false
   }
  },
  {
   "cell_type": "code",
   "execution_count": 6,
   "outputs": [],
   "source": [
    "def map_feature(x_1, x_2):\n",
    "    degree = 6\n",
    "    out = np.ones((x_1.shape[0], 1))\n",
    "    for i in np.arange(1, degree + 1, 1):\n",
    "        for j in np.arange(0, i + 1, 1):\n",
    "            feature = (x_1 ** (i - j)) * (x_2 ** j)\n",
    "            out = np.hstack((out, feature))\n",
    "            \n",
    "    return out\n",
    "\n",
    "x_reg = map_feature(x0[:, 0:1], x0[:, 1:2])"
   ],
   "metadata": {
    "collapsed": false,
    "pycharm": {
     "name": "#%%\n",
     "is_executing": false
    }
   }
  },
  {
   "cell_type": "markdown",
   "source": [
    "### Cost function and gradient"
   ],
   "metadata": {
    "collapsed": false
   }
  },
  {
   "cell_type": "code",
   "execution_count": null,
   "metadata": {
    "collapsed": true,
    "pycharm": {
     "is_executing": false
    }
   },
   "outputs": [],
   "source": [
    "\n"
   ]
  }
 ],
 "metadata": {
  "kernelspec": {
   "display_name": "Python 3",
   "language": "python",
   "name": "python3"
  },
  "language_info": {
   "codemirror_mode": {
    "name": "ipython",
    "version": 2
   },
   "file_extension": ".py",
   "mimetype": "text/x-python",
   "name": "python",
   "nbconvert_exporter": "python",
   "pygments_lexer": "ipython2",
   "version": "2.7.6"
  },
  "pycharm": {
   "stem_cell": {
    "cell_type": "raw",
    "source": [],
    "metadata": {
     "collapsed": false
    }
   }
  }
 },
 "nbformat": 4,
 "nbformat_minor": 0
}