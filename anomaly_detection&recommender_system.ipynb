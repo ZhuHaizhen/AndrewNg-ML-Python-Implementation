{
 "cells": [
  {
   "cell_type": "code",
   "execution_count": 1,
   "outputs": [
    {
     "name": "stdout",
     "text": [
      "C:\\Users\\s\\Downloads\\machine_learning\\machine-learning-ex8\\ex8\n"
     ],
     "output_type": "stream"
    },
    {
     "data": {
      "text/plain": "'C:\\\\Users\\\\s\\\\Downloads\\\\machine_learning\\\\machine-learning-ex8\\\\ex8'"
     },
     "metadata": {},
     "output_type": "execute_result",
     "execution_count": 1
    }
   ],
   "source": [
    "%cd C:\\\\Users\\\\s\\\\Downloads\\\\machine_learning\\\\machine-learning-ex8\\\\ex8\n",
    "%pwd"
   ],
   "metadata": {
    "collapsed": false,
    "pycharm": {
     "name": "#%%\n",
     "is_executing": false
    }
   }
  },
  {
   "cell_type": "markdown",
   "metadata": {
    "collapsed": true,
    "pycharm": {
     "name": "#%% md\n"
    }
   },
   "source": [
    "## Anomaly detection"
   ]
  },
  {
   "cell_type": "code",
   "execution_count": 86,
   "outputs": [
    {
     "name": "stdout",
     "text": [
      "(307, 2)\n(307, 2) (307, 1)\n"
     ],
     "output_type": "stream"
    },
    {
     "data": {
      "text/plain": "<Figure size 432x288 with 1 Axes>",
      "image/png": "[encoded data removed]"
     },
     "metadata": {
      "needs_background": "light"
     },
     "output_type": "display_data"
    }
   ],
   "source": [
    "import numpy as np\n",
    "from scipy.io import loadmat\n",
    "import matplotlib.pyplot as plt\n",
    "\n",
    "\n",
    "data1 = loadmat('ex8data1.mat')\n",
    "x10 = data1['X']\n",
    "print(x10.shape)\n",
    "xval10 = data1['Xval']\n",
    "yval_10 = data1['yval']\n",
    "print(xval10.shape, yval_10.shape)\n",
    "\n",
    "plt.scatter(x10[:, 0], x10[:,1], c='b', marker='x',alpha=0.8)\n",
    "plt.xlabel('Latency (ms)')\n",
    "plt.ylabel('Throughput (mb/s)')\n",
    "plt.show()"
   ],
   "metadata": {
    "collapsed": false,
    "pycharm": {
     "name": "#%%\n",
     "is_executing": false
    }
   }
  },
  {
   "cell_type": "markdown",
   "source": [
    "### Estimating parameters for a Gaussian"
   ],
   "metadata": {
    "collapsed": false,
    "pycharm": {
     "name": "#%% md\n"
    }
   }
  },
  {
   "cell_type": "code",
   "execution_count": 68,
   "outputs": [
    {
     "name": "stdout",
     "text": [
      "[[14.11222578 14.99771051]] [[1.83263141 1.70974533]]\n"
     ],
     "output_type": "stream"
    }
   ],
   "source": [
    "def estimate_gaussian(x):\n",
    "    m = x.shape[0]\n",
    "    mu = np.mean(x, axis=0)\n",
    "  # sigma2 = x.var(axis=0)\n",
    "    sigma2 = 1 / m * np.sum((x - mu) ** 2, axis=0)\n",
    "    \n",
    "    return mu.reshape(1, -1), sigma2.reshape(1, -1)\n",
    "\n",
    "\n",
    "mu10, sigma2_10 = estimate_gaussian(x10)\n",
    "print(mu10, sigma2_10)"
   ],
   "metadata": {
    "collapsed": false,
    "pycharm": {
     "name": "#%%\n",
     "is_executing": false
    }
   }
  },
  {
   "cell_type": "code",
   "execution_count": 125,
   "outputs": [
    {
     "name": "stdout",
     "text": [
      "[[0.06470829]\n [0.05030417]\n [0.07245035]\n [0.05031575]\n [0.06368497]]\n[[0.04163207]\n [0.08190901]\n [0.04071578]\n [0.06190003]\n [0.07118676]]\n"
     ],
     "output_type": "stream"
    }
   ],
   "source": [
    "from scipy import stats\n",
    "\n",
    "\n",
    "def p(x, mu, sigma2):\n",
    "    m, n = x.shape\n",
    "    p_list = []\n",
    "    \n",
    "    for j in range(m):\n",
    "        p = 1\n",
    "        for i in range(n):\n",
    "            p *= stats.norm.pdf(x[j, i], mu[0, i], np.sqrt(sigma2[0, i]))\n",
    "        p_list.append(p)\n",
    "    p_array = np.array(p_list).reshape(-1, 1)\n",
    "    return p_array\n",
    "\n",
    "\n",
    "p10 = p(x10, mu10, sigma2_10)\n",
    "print(p10[:5])\n",
    "pval10 = p(xval10, mu10, sigma2_10)\n",
    "print(pval10[:5])"
   ],
   "metadata": {
    "collapsed": false,
    "pycharm": {
     "name": "#%%\n",
     "is_executing": false
    }
   }
  },
  {
   "cell_type": "markdown",
   "source": [
    "### Selecting the threshold"
   ],
   "metadata": {
    "collapsed": false,
    "pycharm": {
     "name": "#%% md\n"
    }
   }
  },
  {
   "cell_type": "code",
   "execution_count": 126,
   "outputs": [
    {
     "name": "stderr",
     "text": [
      "C:\\ProgramData\\Anaconda3\\lib\\site-packages\\ipykernel_launcher.py:12: RuntimeWarning: invalid value encountered in double_scalars\n  if sys.path[0] == '':\n"
     ],
     "output_type": "stream"
    },
    {
     "name": "stdout",
     "text": [
      "8.990852779269493e-05 0.8750000000000001\n"
     ],
     "output_type": "stream"
    },
    {
     "data": {
      "text/plain": "<Figure size 432x288 with 1 Axes>",
      "image/png": "[encoded data removed]"
     },
     "metadata": {
      "needs_background": "light"
     },
     "output_type": "display_data"
    }
   ],
   "source": [
    "def select_threshold(yval, pval):\n",
    "    best_epsilon = 0\n",
    "    best_f1 = 0\n",
    "    stepsize = (np.max(pval) - np.min(pval)) / 1000\n",
    "    for epsilon in np.arange(np.min(pval), np.max(pval), stepsize):\n",
    "        predictions = np.array(pval < epsilon)\n",
    "        fp = np.sum(np.array(predictions == 1) & np.array(yval == 0)).astype(float)\n",
    "        fn = np.sum(np.array(predictions == 0) & np.array(yval == 1)).astype(float)\n",
    "        tp = np.sum(np.array(predictions == 1) & np.array(yval == 1)).astype(float)\n",
    "        \n",
    "        precision = tp / (tp + fp)\n",
    "        recall = tp / (tp + fn)\n",
    "        f1 = 2 * precision * recall / (precision + recall)\n",
    "        \n",
    "        if f1 > best_f1:\n",
    "            best_f1 = f1\n",
    "            best_epsilon = epsilon\n",
    "            \n",
    "    return best_epsilon, best_f1\n",
    "\n",
    "\n",
    "best_epsilon10, best_f1_10 = select_threshold(yval_10, pval10)\n",
    "print(best_epsilon10, best_f1_10)\n",
    "\n",
    "outliers = np.where(p10 < best_epsilon10)\n",
    "plt.scatter(x10[outliers, 0], x10[outliers, 1], c='w', marker='o', edgecolors='r')\n",
    "plt.scatter(x10[:, 0], x10[:,1], c='b', marker='x',alpha=0.8)\n",
    "plt.xlabel('Latency (ms)')\n",
    "plt.ylabel('Throughput (mb/s)')\n",
    "plt.show()"
   ],
   "metadata": {
    "collapsed": false,
    "pycharm": {
     "name": "#%%\n",
     "is_executing": false
    }
   }
  },
  {
   "cell_type": "markdown",
   "source": [
    "### High dimensional dataset"
   ],
   "metadata": {
    "collapsed": false,
    "pycharm": {
     "name": "#%% md\n"
    }
   }
  },
  {
   "cell_type": "code",
   "execution_count": 132,
   "outputs": [
    {
     "name": "stdout",
     "text": [
      "(1000, 11) (100, 11) (100, 1)\n60.97489372687165\n[[7.43392946e-18]\n [3.17719963e-18]]\n[[5.14552429e-22]\n [1.73600598e-17]]\n1.377228890761358e-18 0.6153846153846154\nOutliers found: 117\n"
     ],
     "output_type": "stream"
    },
    {
     "name": "stderr",
     "text": [
      "C:\\ProgramData\\Anaconda3\\lib\\site-packages\\ipykernel_launcher.py:12: RuntimeWarning: invalid value encountered in double_scalars\n  if sys.path[0] == '':\n"
     ],
     "output_type": "stream"
    }
   ],
   "source": [
    "data2 = loadmat('ex8data2.mat')\n",
    "x20 = data2['X']\n",
    "xval_20 = data2['Xval']\n",
    "yval_20 = data2['yval']\n",
    "print(x20.shape, xval_20.shape, yval_20.shape)\n",
    "\n",
    "def multivariate_gaussian(x, mu, sigma2):\n",
    "    k = x.shape[0]\n",
    "    sigma2 = np.diag(sigma2.ravel())\n",
    "    x = x - mu\n",
    "    p = (2 * np.pi) ** (-k / 2) * np.linalg.det(sigma2) ** (-0.5) * np.exp(-0.5 * x.T.dot(np.linalg.pinv(sigma2)).dot(x))\n",
    "    \n",
    "    return p\n",
    "\n",
    "mu20, sigma2_20 = estimate_gaussian(x20)\n",
    "print(sigma2_20[0, 0])\n",
    "p20 = np.array([multivariate_gaussian(x.reshape(-1, 1), mu20.reshape(-1, 1), sigma2_20) for x in x20]).reshape(-1, 1)\n",
    "print(p20[:2])\n",
    "pval20 = np.array([multivariate_gaussian(x.reshape(-1, 1), mu20.reshape(-1, 1),sigma2_20) for x in xval_20]).reshape(-1, 1)\n",
    "print(pval20[:2])\n",
    "\n",
    "best_epsilon20, best_f1_20 = select_threshold(yval_20, pval20)\n",
    "print(best_epsilon20, best_f1_20)\n",
    "print('Outliers found:', np.sum(p20 < best_epsilon20))"
   ],
   "metadata": {
    "collapsed": false,
    "pycharm": {
     "name": "#%%\n",
     "is_executing": false
    }
   }
  },
  {
   "cell_type": "markdown",
   "source": [
    "## Recommender Systems"
   ],
   "metadata": {
    "collapsed": false
   }
  },
  {
   "cell_type": "code",
   "execution_count": 138,
   "outputs": [
    {
     "name": "stdout",
     "text": [
      "(1682, 943) (1682, 943)\n4.52067868504772\n"
     ],
     "output_type": "stream"
    }
   ],
   "source": [
    "data3 = loadmat('ex8_movies.mat')\n",
    "r30 = data3['R']\n",
    "y30 = data3['Y']\n",
    "print(r30.shape, y30.shape)\n",
    "\n",
    "print(np.mean(y30[0, r30[0, :]]))"
   ],
   "metadata": {
    "collapsed": false,
    "pycharm": {
     "name": "#%%\n",
     "is_executing": false
    }
   }
  },
  {
   "cell_type": "markdown",
   "source": [
    "### Collaborative filtering learning algorithm"
   ],
   "metadata": {
    "collapsed": false,
    "pycharm": {
     "name": "#%% md\n"
    }
   }
  },
  {
   "cell_type": "code",
   "execution_count": 152,
   "outputs": [
    {
     "name": "stdout",
     "text": [
      "(1682, 10) (943, 10)\n22.224603725685675\n31.34405624427422\n"
     ],
     "output_type": "stream"
    }
   ],
   "source": [
    "params0 = loadmat('ex8_movieParams.mat')\n",
    "x30 = params0['X']\n",
    "theta30 = params0['Theta']\n",
    "params0 = np.hstack((x30.ravel(), theta30.ravel())).ravel()\n",
    "print(x30.shape, theta30.shape)\n",
    "\n",
    "def cofi_cost_func(params, y, r, num_users, num_movies, num_features, lam):\n",
    "    x = params[: num_movies * num_features].reshape(num_movies, num_features)\n",
    "    theta = params[num_movies * num_features:].reshape(num_users, num_features)\n",
    "    \n",
    "    j_temp = ((x.dot(theta.T) - y) * r) ** 2\n",
    "    j = np.sum(j_temp) / 2 + lam / 2 * np.sum(theta ** 2) + lam / 2 * np.sum(x ** 2)\n",
    "    \n",
    "    x_grad = ((x.dot(theta.T) - y) * r).dot(theta) + lam * x\n",
    "    theta_grad = ((x.dot(theta.T) - y) * r).T.dot(x) + lam * theta\n",
    "    grad = np.hstack((x_grad.ravel(), theta_grad.ravel())).ravel()\n",
    "    \n",
    "    return j, grad\n",
    "\n",
    "\n",
    "num_users0 = 4\n",
    "num_movies0 = 5\n",
    "num_features0 = 3\n",
    "x30_1 = x30[:num_movies0, :num_features0]\n",
    "theta30_1 = theta30[:num_users0, :num_features0]\n",
    "params0_1 = np.hstack((x30_1.ravel(), theta30_1.ravel())).ravel()\n",
    "y30_1 = y30[:num_movies0, :num_users0]\n",
    "r30_1 = r30[:num_movies0, :num_users0]\n",
    "\n",
    "j_1, grad_1 = cofi_cost_func(params0_1, y30_1, r30_1, num_users0, num_movies0, num_features0, 0)\n",
    "print(j_1)\n",
    "j_2, grad_2 = cofi_cost_func(params0_1, y30_1, r30_1, num_users0, num_movies0, num_features0, 1.5)\n",
    "print(j_2)"
   ],
   "metadata": {
    "collapsed": false,
    "pycharm": {
     "name": "#%%\n",
     "is_executing": false
    }
   }
  },
  {
   "cell_type": "markdown",
   "source": [
    "### Learning movie recommendations"
   ],
   "metadata": {
    "collapsed": false,
    "pycharm": {
     "name": "#%% md\n"
    }
   }
  },
  {
   "cell_type": "code",
   "execution_count": 167,
   "outputs": [
    {
     "name": "stdout",
     "text": [
      "Toy Story (1995)\n"
     ],
     "output_type": "stream"
    }
   ],
   "source": [
    "movie = 'movie_ids.txt'\n",
    "movie_idx = {}\n",
    "with open(movie, encoding='ISO-8859-1') as f:\n",
    "    for line in f.readlines():\n",
    "        line = line.strip().split(' ')\n",
    "        idx = line[0]\n",
    "        movie = line[1:]\n",
    "        movie_idx[int(idx) - 1] = ' '.join(movie)\n",
    "\n",
    "print(movie_idx[0])"
   ],
   "metadata": {
    "collapsed": false,
    "pycharm": {
     "name": "#%%\n",
     "is_executing": false
    }
   }
  },
  {
   "cell_type": "code",
   "execution_count": 170,
   "outputs": [
    {
     "name": "stdout",
     "text": [
      "Rated 4 for Toy Story (1995)\nRated 3 for Twelve Monkeys (1995)\nRated 5 for Usual Suspects, The (1995)\nRated 4 for Outbreak (1995)\nRated 5 for Shawshank Redemption, The (1994)\nRated 3 for While You Were Sleeping (1995)\nRated 5 for Forrest Gump (1994)\nRated 2 for Silence of the Lambs, The (1991)\nRated 4 for Alien (1979)\nRated 5 for Die Hard 2 (1990)\nRated 5 for Sphere (1998)\n"
     ],
     "output_type": "stream"
    }
   ],
   "source": [
    "my_ratings = np.zeros((1682, 1))\n",
    "my_ratings[0] = 4\n",
    "my_ratings[97] = 2\n",
    "my_ratings[6] = 3\n",
    "my_ratings[11]= 5\n",
    "my_ratings[53] = 4\n",
    "my_ratings[63]= 5\n",
    "my_ratings[65]= 3\n",
    "my_ratings[68] = 5\n",
    "my_ratings[182] = 4\n",
    "my_ratings[225] = 5\n",
    "my_ratings[354]= 5\n",
    "\n",
    "for i in range(1682):\n",
    "    if my_ratings[i] > 0:\n",
    "        print('Rated {0} for {1}'.format(int(my_ratings[i]), movie_idx[i]))"
   ],
   "metadata": {
    "collapsed": false,
    "pycharm": {
     "name": "#%%\n",
     "is_executing": false
    }
   }
  },
  {
   "cell_type": "code",
   "execution_count": 177,
   "outputs": [
    {
     "name": "stdout",
     "text": [
      "(1682, 944) (1682, 944)\n5.507036456515984e-19\n(1682, 10) (944, 10)\n"
     ],
     "output_type": "stream"
    }
   ],
   "source": [
    "y30_2 = np.hstack((y30, my_ratings))\n",
    "r30_2 = np.hstack((r30, my_ratings != 0))\n",
    "print(y30_2.shape, r30_2.shape)\n",
    "\n",
    "def normalize_ratings(y, r):\n",
    "    m, n = y.shape\n",
    "    y_mean = np.zeros((m ,1))\n",
    "    y_norm = np.zeros(y.shape)\n",
    "    for i in range(m):\n",
    "        idx = np.where(r[i, :] == 1)\n",
    "        y_mean[i] = np.mean(y[i, idx])\n",
    "        y_norm[i, idx] = y[i, idx] - y_mean[i]\n",
    "        \n",
    "    return y_norm, y_mean\n",
    "\n",
    "\n",
    "y30_norm, y30_mean = normalize_ratings(y30_2, r30_2)\n",
    "print(y30_norm.mean())\n",
    "num_users1 = y30_2.shape[1]\n",
    "num_movies1 = y30_2.shape[0]\n",
    "num_features1 = 10\n",
    "\n",
    "x_init = np.random.randn(num_movies1, num_features1)\n",
    "theta_init = np.random.randn(num_users1, num_features1)\n",
    "print(x_init.shape, theta_init.shape)\n",
    "params_init = np.hstack((x_init.ravel(), theta_init.ravel())).ravel()"
   ],
   "metadata": {
    "collapsed": false,
    "pycharm": {
     "name": "#%%\n",
     "is_executing": false
    }
   }
  },
  {
   "cell_type": "code",
   "execution_count": 178,
   "outputs": [
    {
     "data": {
      "text/plain": "     fun: 38951.84755999413\n     jac: array([ 1.32383371e-06,  1.82896095e-06, -2.88286309e-06, ...,\n        1.53882693e-07,  4.14615819e-08, -5.65635244e-09])\n message: 'Optimization terminated successfully.'\n    nfev: 632\n     nit: 430\n    njev: 632\n  status: 0\n success: True\n       x: array([-0.39340505,  0.07708225,  0.77692132, ...,  0.02515954,\n        0.06865952, -0.0050289 ])"
     },
     "metadata": {},
     "output_type": "execute_result",
     "execution_count": 178
    }
   ],
   "source": [
    "from scipy import optimize\n",
    "\n",
    "\n",
    "res = optimize.minimize(cofi_cost_func, x0=params_init, args=(y30_norm, r30_2, num_users1, num_movies1, num_features1, 10), method='CG', jac=True)\n",
    "res"
   ],
   "metadata": {
    "collapsed": false,
    "pycharm": {
     "name": "#%%\n",
     "is_executing": false
    }
   }
  },
  {
   "cell_type": "code",
   "execution_count": 180,
   "outputs": [
    {
     "name": "stdout",
     "text": [
      "Predicting rating 7.8 for English Patient, The (1996)\nPredicting rating 5.8 for Seven Years in Tibet (1997)\nPredicting rating 5.7 for Good Will Hunting (1997)\nPredicting rating 5.6 for Schindler's List (1993)\nPredicting rating 5.5 for Silence of the Lambs, The (1991)\nPredicting rating 5.5 for Titanic (1997)\nPredicting rating 5.4 for Four Weddings and a Funeral (1994)\nPredicting rating 5.3 for Dead Poets Society (1989)\nPredicting rating 5.3 for Boot, Das (1981)\nPredicting rating 5.2 for Fried Green Tomatoes (1991)\n"
     ],
     "output_type": "stream"
    }
   ],
   "source": [
    "x_res = res.x[: num_movies1 * num_features1].reshape(num_movies1, num_features1)\n",
    "theta_res = res.x[num_movies1 * num_features1:].reshape(num_users1, num_features1)\n",
    "\n",
    "pred = x_res.dot(theta_init.T) + y30_mean\n",
    "my_score = pred[:, -1]\n",
    "sorted_idx = np.argsort(my_score)\n",
    "favorite = 10\n",
    "for i in range(favorite):\n",
    "    print('Predicting rating {0} for {1}'.format(round(my_score[sorted_idx[-(i + 1)]], 1), movie_idx[sorted_idx[-(i + 1)]]))\n"
   ],
   "metadata": {
    "collapsed": false,
    "pycharm": {
     "name": "#%%\n",
     "is_executing": false
    }
   }
  }
 ],
 "metadata": {
  "kernelspec": {
   "display_name": "Python 3",
   "language": "python",
   "name": "python3"
  },
  "language_info": {
   "codemirror_mode": {
    "name": "ipython",
    "version": 2
   },
   "file_extension": ".py",
   "mimetype": "text/x-python",
   "name": "python",
   "nbconvert_exporter": "python",
   "pygments_lexer": "ipython2",
   "version": "2.7.6"
  },
  "pycharm": {
   "stem_cell": {
    "cell_type": "raw",
    "source": [],
    "metadata": {
     "collapsed": false
    }
   }
  }
 },
 "nbformat": 4,
 "nbformat_minor": 0
}